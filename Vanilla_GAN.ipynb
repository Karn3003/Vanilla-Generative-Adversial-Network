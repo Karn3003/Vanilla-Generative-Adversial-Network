{
  "cells": [
    {
      "cell_type": "code",
      "execution_count": 1,
      "metadata": {
        "colab": {},
        "colab_type": "code",
        "id": "PIpHAZ9IqyTO"
      },
      "outputs": [],
      "source": [
        "import torch\n",
        "import torch.nn as nn\n",
        "import torch.optim as optim\n",
        "from torch.autograd.variable import Variable\n",
        "from torchvision import transforms\n",
        "from torchvision.datasets import MNIST\n",
        "from torchvision.utils import make_grid\n",
        "from torch.utils.data import DataLoader\n",
        "import imageio"
      ]
    },
    {
      "cell_type": "code",
      "execution_count": 2,
      "metadata": {
        "colab": {},
        "colab_type": "code",
        "id": "_CQc_0i8qyTR"
      },
      "outputs": [],
      "source": [
        "transform = transforms.Compose([\n",
        "                transforms.ToTensor(),\n",
        "                transforms.Normalize((0.5,),(0.5,))\n",
        "                ])\n",
        "to_image = transforms.ToPILImage()\n",
        "trainset = MNIST(root='./data/', train=True, download=True, transform=transform)\n",
        "trainloader = DataLoader(trainset, batch_size=100, shuffle=True)\n",
        "\n",
        "device = 'cuda'"
      ]
    },
    {
      "cell_type": "code",
      "execution_count": 6,
      "metadata": {},
      "outputs": [
        {
          "name": "stdout",
          "output_type": "stream",
          "text": [
            "cpu\n"
          ]
        }
      ],
      "source": [
        "device = torch.device(\"cuda\" if torch.cuda.is_available() else \"cpu\")\n",
        "print(device)"
      ]
    },
    {
      "cell_type": "code",
      "execution_count": 7,
      "metadata": {
        "colab": {},
        "colab_type": "code",
        "id": "0cJKODM2qyTT"
      },
      "outputs": [],
      "source": [
        "class Generator(nn.Module):\n",
        "    def __init__(self):\n",
        "        super(Generator, self).__init__()\n",
        "        self.n_features = 128\n",
        "        self.n_out = 784\n",
        "        self.fc0 = nn.Sequential(\n",
        "                    nn.Linear(self.n_features, 256),\n",
        "                    nn.LeakyReLU(0.2)\n",
        "                    )\n",
        "        self.fc1 = nn.Sequential(\n",
        "                    nn.Linear(256, 512),\n",
        "                    nn.LeakyReLU(0.2)\n",
        "                    )\n",
        "        self.fc2 = nn.Sequential(\n",
        "                    nn.Linear(512, 1024),\n",
        "                    nn.LeakyReLU(0.2)\n",
        "                    )\n",
        "        self.fc3 = nn.Sequential(\n",
        "                    nn.Linear(1024, self.n_out),\n",
        "                    nn.Tanh()\n",
        "                    )\n",
        "    def forward(self, x):\n",
        "        x = self.fc0(x)\n",
        "        x = self.fc1(x)\n",
        "        x = self.fc2(x)\n",
        "        x = self.fc3(x)\n",
        "        x = x.view(-1, 1, 28, 28)\n",
        "        return x\n",
        "\n",
        "class Discriminator(nn.Module):\n",
        "    def __init__(self):\n",
        "        super(Discriminator, self).__init__()\n",
        "        self.n_in = 784\n",
        "        self.n_out = 1\n",
        "        self.fc0 = nn.Sequential(\n",
        "                    nn.Linear(self.n_in, 1024),\n",
        "                    nn.LeakyReLU(0.2),\n",
        "                    nn.Dropout(0.3)\n",
        "                    )\n",
        "        self.fc1 = nn.Sequential(\n",
        "                    nn.Linear(1024, 512),\n",
        "                    nn.LeakyReLU(0.2),\n",
        "                    nn.Dropout(0.3)\n",
        "                    )\n",
        "        self.fc2 = nn.Sequential(\n",
        "                    nn.Linear(512, 256),\n",
        "                    nn.LeakyReLU(0.2),\n",
        "                    nn.Dropout(0.3)\n",
        "                    )\n",
        "        self.fc3 = nn.Sequential(\n",
        "                    nn.Linear(256, self.n_out),\n",
        "                    nn.Sigmoid()\n",
        "                    )\n",
        "    def forward(self, x):\n",
        "        x = x.view(-1, 784)\n",
        "        x = self.fc0(x)\n",
        "        x = self.fc1(x)\n",
        "        x = self.fc2(x)\n",
        "        x = self.fc3(x)\n",
        "        return x"
      ]
    },
    {
      "cell_type": "code",
      "execution_count": 26,
      "metadata": {
        "colab": {},
        "colab_type": "code",
        "id": "5cuePtAyqyTV"
      },
      "outputs": [],
      "source": [
        "generator = Generator()\n",
        "discriminator = Discriminator()\n",
        "\n",
        "generator.to(device)\n",
        "discriminator.to(device)\n",
        "\n",
        "g_optim = optim.Adam(generator.parameters(), lr=2e-4)\n",
        "d_optim = optim.Adam(discriminator.parameters(), lr=2e-4)\n",
        "\n",
        "g_losses = []\n",
        "d_losses = []\n",
        "images = []\n",
        "\n",
        "criterion = nn.BCELoss()\n",
        "\n",
        "def noise(n, n_features=128):\n",
        "    return Variable(torch.randn(n, n_features)).to(device)\n",
        "\n",
        "def make_ones(size):\n",
        "    data = Variable(torch.ones(size, 1))\n",
        "    return data.to(device)\n",
        "\n",
        "def make_zeros(size):\n",
        "    data = Variable(torch.zeros(size, 1))\n",
        "    return data.to(device)"
      ]
    },
    {
      "cell_type": "code",
      "execution_count": 21,
      "metadata": {
        "colab": {},
        "colab_type": "code",
        "id": "Xe8tdY9tqyTX"
      },
      "outputs": [],
      "source": [
        "def train_discriminator(optimizer, real_data, fake_data):\n",
        "    n = real_data.size(0)\n",
        "\n",
        "    optimizer.zero_grad()\n",
        "    \n",
        "    prediction_real = discriminator(real_data)\n",
        "    error_real = criterion(prediction_real, make_ones(n))\n",
        "    error_real.backward()\n",
        "\n",
        "    prediction_fake = discriminator(fake_data)\n",
        "    error_fake = criterion(prediction_fake, make_zeros(n))\n",
        "    \n",
        "    error_fake.backward()\n",
        "    optimizer.step()\n",
        "    \n",
        "    return error_real + error_fake\n",
        "\n",
        "def train_generator(optimizer, fake_data):\n",
        "    n = fake_data.size(0)\n",
        "    optimizer.zero_grad()\n",
        "    \n",
        "    prediction = discriminator(fake_data)\n",
        "    error = criterion(prediction, make_ones(n))\n",
        "    \n",
        "    error.backward()\n",
        "    optimizer.step()\n",
        "    \n",
        "    return error"
      ]
    },
    {
      "cell_type": "code",
      "execution_count": 27,
      "metadata": {
        "colab": {},
        "colab_type": "code",
        "id": "MfmlwbTHqyTZ",
        "scrolled": true
      },
      "outputs": [
        {
          "name": "stdout",
          "output_type": "stream",
          "text": [
            "Epoch 0: g_loss: 3.94349313 d_loss: 0.75675488\n",
            "Epoch 1: g_loss: 3.58162117 d_loss: 0.80950487\n",
            "Epoch 2: g_loss: 2.48512292 d_loss: 0.79591632\n",
            "Epoch 3: g_loss: 3.16798711 d_loss: 0.54883999\n",
            "Epoch 4: g_loss: 3.41037226 d_loss: 0.44575116\n",
            "Training Finished\n"
          ]
        }
      ],
      "source": [
        "num_epochs = 5\n",
        "k = 1\n",
        "test_noise = noise(64)\n",
        "\n",
        "generator.train()\n",
        "discriminator.train()\n",
        "for epoch in range(num_epochs):\n",
        "    g_error = 0.0\n",
        "    d_error = 0.0\n",
        "    for i, data in enumerate(trainloader):\n",
        "        imgs, _ = data\n",
        "        n = len(imgs)\n",
        "        for j in range(k):\n",
        "            fake_data = generator(noise(n)).detach()\n",
        "            real_data = imgs.to(device)\n",
        "            d_error += train_discriminator(d_optim, real_data, fake_data)\n",
        "        fake_data = generator(noise(n))\n",
        "        g_error += train_generator(g_optim, fake_data)\n",
        "\n",
        "    img = generator(test_noise).cpu().detach()\n",
        "    img = make_grid(img)\n",
        "    images.append(img)\n",
        "    g_losses.append(g_error.detach().numpy()/i)\n",
        "    d_losses.append(d_error.detach().numpy()/i)\n",
        "    print('Epoch {}: g_loss: {:.8f} d_loss: {:.8f}\\r'.format(epoch, g_error/i, d_error/i))\n",
        "    \n",
        "print('Training Finished')\n",
        "torch.save(generator.state_dict(), 'mnist_generator.pth')"
      ]
    },
    {
      "cell_type": "code",
      "execution_count": 11,
      "metadata": {
        "colab": {},
        "colab_type": "code",
        "id": "cxt9KxwZ39l8"
      },
      "outputs": [],
      "source": [
        "import numpy as np\n",
        "from matplotlib import pyplot as plt\n",
        "imgs = [np.array(to_image(i)) for i in images]\n",
        "imageio.mimsave('progress.gif', imgs)"
      ]
    },
    {
      "cell_type": "code",
      "execution_count": 28,
      "metadata": {},
      "outputs": [
        {
          "data": {
            "text/plain": [
              "[3.9434930613522536,\n",
              " 3.5816212241757097,\n",
              " 2.485122909928005,\n",
              " 3.1679870911154007,\n",
              " 3.4103722675813857]"
            ]
          },
          "execution_count": 28,
          "metadata": {},
          "output_type": "execute_result"
        }
      ],
      "source": [
        "g_losses"
      ]
    },
    {
      "cell_type": "code",
      "execution_count": 29,
      "metadata": {
        "colab": {
          "base_uri": "https://localhost:8080/",
          "height": 269
        },
        "colab_type": "code",
        "id": "UEy9K5BDRMkw",
        "outputId": "aac5bca5-344f-4ce9-8932-a48fa95a91dc"
      },
      "outputs": [
        {
          "data": {
            "image/png": "[encoded data removed]",
            "text/plain": [
              "<Figure size 432x288 with 1 Axes>"
            ]
          },
          "metadata": {
            "needs_background": "light"
          },
          "output_type": "display_data"
        }
      ],
      "source": [
        "plt.plot(g_losses, label='Generator_Losses')\n",
        "plt.plot(d_losses, label='Discriminator Losses')\n",
        "plt.legend()\n",
        "plt.savefig('loss.png')"
      ]
    },
    {
      "cell_type": "code",
      "execution_count": null,
      "metadata": {
        "colab": {},
        "colab_type": "code",
        "id": "HC2wPPzVSQeM"
      },
      "outputs": [],
      "source": []
    }
  ],
  "metadata": {
    "accelerator": "GPU",
    "colab": {
      "collapsed_sections": [],
      "name": "Vanilla_GAN.ipynb",
      "provenance": [],
      "version": "0.3.2"
    },
    "kernelspec": {
      "display_name": "Python 3",
      "name": "python3"
    },
    "language_info": {
      "codemirror_mode": {
        "name": "ipython",
        "version": 3
      },
      "file_extension": ".py",
      "mimetype": "text/x-python",
      "name": "python",
      "nbconvert_exporter": "python",
      "pygments_lexer": "ipython3",
      "version": "3.9.7"
    }
  },
  "nbformat": 4,
  "nbformat_minor": 0
}
